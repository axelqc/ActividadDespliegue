{
 "cells": [
  {
   "cell_type": "markdown",
   "metadata": {},
   "source": [
    "ESQUELETO:\n",
    "\n",
    "Este es el archivo para subir el modelo a la nube.\n",
    "\n",
    "\n",
    "CÓMO FUNCIONA:\n",
    "\n",
    "1. Tomar un modelo ya realizado.\n",
    "\n",
    "2. Lo sube a la nube.\n",
    "\n",
    "ASEGÚRENSE DE QUE SE COORDINAN LO NECESARIO PARA QUE LOS NOMBRES COINCIDAN (no es de chill cambiar el estándar xd)."
   ]
  },
  {
   "cell_type": "code",
   "execution_count": 1,
   "metadata": {},
   "outputs": [
    {
     "name": "stdout",
     "output_type": "stream",
     "text": [
      "Cleaning up past default Resource Group Deployments on the subscription to avoid limit of 10\n",
      "Deleting past Resource Group Deployment with name: DeployResourceGroup-5483a0926f\n",
      "Deploying KeyVault with name workspackeyvaultf993b9e7.\n",
      "Deploying StorageAccount with name workspacstorage3b0082d40.\n",
      "Deployed KeyVault with name workspackeyvaultf993b9e7. Took 27.84 seconds.\n",
      "Deploying AppInsights with name workspacinsights1dd1533e.\n",
      "Deployed AppInsights with name workspacinsights1dd1533e. Took 63.0 seconds.\n",
      "Deploying Workspace with name workspace.\n",
      "Deployed Workspace with name workspace. Took 40.13 seconds.\n",
      "Registering model model\n"
     ]
    }
   ],
   "source": [
    "## STEP 1: Set up the workspace.\n",
    "\n",
    "import json\n",
    "\n",
    "#GETTING MY ID:\n",
    "my_id = config['id']\n",
    "\n",
    "from azureml.core import Workspace\n",
    "\n",
    "ws = Workspace.create(name=\"workspace\",\n",
    "                      subscription_id = my_id,\n",
    "                      resource_group = \"deployment\",\n",
    "                      location = \"brazilsouth\")\n",
    "\n",
    "from azureml.core.model import Model\n",
    "\n",
    "mname = \"model\"\n",
    "registered_model = Model.register(model_path=\"model.pkl\",\n",
    "                                  model_name=mname,\n",
    "                                  workspace=ws)"
   ]
  },
  {
   "cell_type": "code",
   "execution_count": 11,
   "metadata": {},
   "outputs": [],
   "source": [
    "################ score.py ###################\n",
    "\n",
    "umb = open(\"umbral.json\", \"r\")\n",
    "umb = json.load(umb)\n",
    "umbral = umb[\"umbral\"][0]\n",
    "\n",
    "scorepy = \"\"\"\n",
    "import json\n",
    "import joblib\n",
    "import numpy as np\n",
    "import pandas as pd\n",
    "from azureml.core.model import Model\n",
    "\n",
    "def init():\n",
    "  global model\n",
    "  model_path = Model.get_model_path('model')\n",
    "  model = joblib.load(model_path)\n",
    "\n",
    "def run(raw_data):\n",
    "  try:\n",
    "    data = json.loads(raw_data)['data']\n",
    "    data = pd.DataFrame(data)\n",
    "    \n",
    "    # These are the 15 features selected in your model2.ipynb\n",
    "    required_columns = [\n",
    "        ' ROA(C) before interest and depreciation before interest',\n",
    "        ' ROA(A) before interest and % after tax',\n",
    "        ' ROA(B) before interest and depreciation after tax',\n",
    "        ' Persistent EPS in the Last Four Seasons',\n",
    "        ' Per Share Net profit before tax (Yuan ¥)',\n",
    "        ' Debt ratio %',\n",
    "        ' Net worth/Assets',\n",
    "        ' Borrowing dependency',\n",
    "        ' Net profit before tax/Paid-in capital',\n",
    "        ' Working Capital to Total Assets',\n",
    "        ' Current Liability to Assets',\n",
    "        ' Retained Earnings to Total Assets',\n",
    "        ' Current Liability to Current Assets',\n",
    "        ' Net Income to Total Assets',\n",
    "        ' Net Income to Stockholder\\\\'s Equity'\n",
    "    ]\n",
    "    \n",
    "    # Check if all required columns are present\n",
    "    for col in required_columns:\n",
    "        if col not in data.columns:\n",
    "            return json.dumps(f\"Missing required column: {{col}}\")\n",
    "    \n",
    "    # Select only the required columns in the right order\n",
    "    data_features = data[required_columns]\n",
    "    \n",
    "    # Try with predict_proba first, fall back to predict if it fails\n",
    "    try:\n",
    "        # Try to use predict_proba if available\n",
    "        result = model.predict_proba(data_features)[:, 1].tolist()\n",
    "        umbral = {umbral}  # The threshold from your umbral.json\n",
    "        result_finals = [1 if x > umbral else 0 for x in result]\n",
    "    except (AttributeError, TypeError):\n",
    "        # If predict_proba is not available, use predict directly\n",
    "        result_finals = model.predict(data_features).tolist()\n",
    "    \n",
    "    return json.dumps(result_finals)\n",
    "  except Exception as e:\n",
    "    return json.dumps(str(e))\n",
    "\"\"\"\n",
    "\n",
    "file_score = open(\"score.py\", \"w\")\n",
    "file_score.write(scorepy)\n",
    "file_score.close()"
   ]
  },
  {
   "cell_type": "code",
   "execution_count": 12,
   "metadata": {},
   "outputs": [
    {
     "name": "stderr",
     "output_type": "stream",
     "text": [
      "/var/folders/b5/6d3jsq3n12j27vfn8yqh_y500000gn/T/ipykernel_9719/381904218.py:18: FutureWarning: azureml.core.model:\n",
      "To leverage new model deployment capabilities, AzureML recommends using CLI/SDK v2 to deploy models as online endpoint, \n",
      "please refer to respective documentations \n",
      "https://docs.microsoft.com/azure/machine-learning/how-to-deploy-managed-online-endpoints /\n",
      "https://docs.microsoft.com/azure/machine-learning/how-to-attach-kubernetes-anywhere \n",
      "For more information on migration, see https://aka.ms/acimoemigration \n",
      "To disable CLI/SDK v1 deprecation warning set AZUREML_LOG_DEPRECATION_WARNING_ENABLED to 'False'\n",
      "  service = Model.deploy(workspace=ws,\n"
     ]
    }
   ],
   "source": [
    "## STEP 2: Inference configuration: the blueprints for the German carpenter about how to build your furniture.\n",
    "\n",
    "from azureml.core.environment import Environment\n",
    "virtual_env = Environment(\"env-4-housing\")\n",
    "\n",
    "from azureml.core.conda_dependencies import CondaDependencies\n",
    "virtual_env.python.conda_dependencies = CondaDependencies.create(conda_packages=['pandas', 'scikit-learn', 'numpy', 'joblib']) ## Asegúrense de coordinarse con el departamento de modelos para incluir los paquetes correctos. Si no, BOOM!\n",
    "\n",
    "\n",
    "from azureml.core.model import InferenceConfig\n",
    "from azureml.core.webservice import AciWebservice\n",
    "inference_config = InferenceConfig(\n",
    "                                environment=virtual_env,\n",
    "                                entry_script=\"score.py\",\n",
    "                                )\n",
    "aci_config = AciWebservice.deploy_configuration(cpu_cores=0.5, memory_gb=1) ## ASEGÚRENSE DE ASIGNAR SUFICIENTE MADERA PARA SUS MUEBLES.\n",
    "\n",
    "service = Model.deploy(workspace=ws,\n",
    "                       name='service',\n",
    "                       models=[registered_model],\n",
    "                       inference_config=inference_config,\n",
    "                       deployment_config=aci_config,\n",
    "                       overwrite=True,\n",
    "                       )"
   ]
  },
  {
   "cell_type": "code",
   "execution_count": 13,
   "metadata": {},
   "outputs": [
    {
     "name": "stdout",
     "output_type": "stream",
     "text": [
      "ACI service creation operation finished, operation \"Succeeded\"\n"
     ]
    }
   ],
   "source": [
    "service.wait_for_deployment()\n",
    "\n",
    "scoring_uri = service.scoring_uri\n",
    "\n",
    "scoreuri = json.dumps({\"URI\": [scoring_uri]})\n",
    "file = open(\"uri.json\", \"w\")\n",
    "file.write(scoreuri)\n",
    "file.close()"
   ]
  }
 ],
 "metadata": {
  "kernelspec": {
   "display_name": "Python 3",
   "language": "python",
   "name": "python3"
  },
  "language_info": {
   "codemirror_mode": {
    "name": "ipython",
    "version": 3
   },
   "file_extension": ".py",
   "mimetype": "text/x-python",
   "name": "python",
   "nbconvert_exporter": "python",
   "pygments_lexer": "ipython3",
   "version": "3.11.3"
  }
 },
 "nbformat": 4,
 "nbformat_minor": 2
}
